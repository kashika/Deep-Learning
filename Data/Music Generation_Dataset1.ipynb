{
 "cells": [
  {
   "cell_type": "code",
   "execution_count": 2,
   "metadata": {},
   "outputs": [
    {
     "name": "stderr",
     "output_type": "stream",
     "text": [
      "Using TensorFlow backend.\n"
     ]
    }
   ],
   "source": [
    "#import libraries\n",
    "import os\n",
    "import json\n",
    "import numpy as np\n",
    "import pandas as pd\n",
    "from keras.models import Sequential\n",
    "from keras.layers import LSTM, Dropout, TimeDistributed, Dense, Activation, Embedding"
   ]
  },
  {
   "cell_type": "code",
   "execution_count": 3,
   "metadata": {},
   "outputs": [],
   "source": [
    "#define hyperparameters\n",
    "data_directory = \"C:/Users/kashi/Documents/CMPE 258/ind_project/Data2/\"\n",
    "data_file = \"Data_Tunes.txt\"\n",
    "charIndex_json = \"char_to_index.json\" \n",
    "model_weights_directory = 'C:/Users/kashi/Documents/CMPE 258/ind_project/Data2/Model_Weights/'\n",
    "BATCH_SIZE = 16\n",
    "SEQ_LENGTH = 64"
   ]
  },
  {
   "cell_type": "code",
   "execution_count": 4,
   "metadata": {},
   "outputs": [],
   "source": [
    "#generate training model\n",
    "def make_model(unique_chars):\n",
    "    \n",
    "    model = Sequential()\n",
    "    #Added 3 LSTM layers with dropout 20% and softmax activation in the fully connected layer \n",
    "    model.add(Embedding(input_dim = unique_chars, output_dim = 512, batch_input_shape = (1, 1))) \n",
    "  \n",
    "    model.add(LSTM(256, return_sequences = True, stateful = True))\n",
    "    model.add(Dropout(0.2))\n",
    "    \n",
    "    model.add(LSTM(256, return_sequences = True, stateful = True))\n",
    "    model.add(Dropout(0.2))\n",
    "    \n",
    "    model.add(LSTM(256, stateful = True)) \n",
    "    \n",
    "    model.add(Dropout(0.2))\n",
    "    \n",
    "    model.add((Dense(unique_chars)))\n",
    "    model.add(Activation(\"softmax\"))\n",
    "    \n",
    "    return model"
   ]
  },
  {
   "cell_type": "code",
   "execution_count": 5,
   "metadata": {},
   "outputs": [],
   "source": [
    "\n",
    "def generate_sequence(epoch_num, initial_index, seq_length):\n",
    "    with open(os.path.join(data_directory, charIndex_json)) as f:\n",
    "        char_to_index = json.load(f)\n",
    "    index_to_char = {i:ch for ch, i in char_to_index.items()}\n",
    "    unique_chars = len(index_to_char)\n",
    "    \n",
    "    model = make_model(unique_chars)\n",
    "    #load the weights in the weights directory\n",
    "    model.load_weights(model_weights_directory + \"Weights_{}.h5\".format(epoch_num))\n",
    "     \n",
    "    sequence_index = [initial_index]\n",
    "    \n",
    "    for _ in range(seq_length):\n",
    "        batch = np.zeros((1, 1))\n",
    "        batch[0, 0] = sequence_index[-1]\n",
    "        \n",
    "        predicted_probs = model.predict_on_batch(batch).ravel()\n",
    "        sample = np.random.choice(range(unique_chars), size = 1, p = predicted_probs)\n",
    "        \n",
    "        sequence_index.append(sample[0])\n",
    "    \n",
    "    seq = ''.join(index_to_char[c] for c in sequence_index)\n",
    "    \n",
    "    cnt = 0\n",
    "    for i in seq:\n",
    "        cnt += 1\n",
    "        if i == \"\\n\":\n",
    "            break\n",
    "    seq1 = seq[cnt:]\n",
    "    \n",
    "    cnt = 0\n",
    "    for i in seq1:\n",
    "        cnt += 1\n",
    "        if i == \"\\n\" and seq1[cnt] == \"\\n\":\n",
    "            break\n",
    "    #ABC sequential model created\n",
    "    seq2 = seq1[:cnt]\n",
    "    return seq2"
   ]
  },
  {
   "cell_type": "code",
   "execution_count": 6,
   "metadata": {},
   "outputs": [
    {
     "name": "stdout",
     "output_type": "stream",
     "text": [
      "1. Which epoch number weight you want to load into the model(10, 20, 30, ..., 90). Small number will generate more errors in music: 90\n",
      "\n",
      "2. Enter any number between 0 to 86 which will be given as initial charcter to model for generating sequence: 25\n",
      "\n",
      "3. Enter the length of music sequence you want to generate. Typical number is between 300-600. Too small number will generate hardly generate any sequence: 450\n",
      "\n",
      "MUSIC SEQUENCE GENERATED: \n",
      "\n",
      "\"D\"a3 f3|\"A7\"A2e \"D\"f2e|\"D7\"f2d Afg|\"D\"a2d d2f||\n",
      "\"A\"e2c \"E7\"Bcd|\"A\"e2c \"E7\"Bcd|\"A\"e3 -\"Em\"e2d|\"A\"c2A AGA|\"E\"B2B \"E7\"B2e|\"A\"A3 -\"E7\"e2d|\"A\"c2c \"B7\"acB|\"A7\"A3 -\"D\"A2G|\"A\"A3 -A2:|\n",
      "K:Am\n",
      "P:C\n",
      "e|\"Am\"e3 e3|\"E7\"e2d B^cd|\"Em\"e2e e3|\"E7\"e2e efa|\"A\"e2c ABc|\n",
      "\"D\"d2B DFG|\"Bm\"A2F \"E7\"^GEE|\"A\"A3 A3|\"A\"ABc d3|\\\n",
      "\"E7\"G2B \"A\"ced|\n",
      "\"A\"e2c \"E7\"Bcd|\"A\"e3 -\"E7\"de^d|\"A\"e2c ABA|\n"
     ]
    }
   ],
   "source": [
    "#Results Generated\n",
    "ep = int(input(\"1. Which epoch number weight you want to load into the model(10, 20, 30, ..., 90). Small number will generate more errors in music: \"))\n",
    "ar = int(input(\"\\n2. Enter any number between 0 to 86 which will be given as initial charcter to model for generating sequence: \"))\n",
    "ln = int(input(\"\\n3. Enter the length of music sequence you want to generate. Typical number is between 300-600. Too small number will generate hardly generate any sequence: \"))\n",
    "\n",
    "music = generate_sequence(ep, ar, ln)\n",
    "\n",
    "print(\"\\nMUSIC SEQUENCE GENERATED: \\n\")\n",
    "\n",
    "print(music)"
   ]
  },
  {
   "cell_type": "code",
   "execution_count": null,
   "metadata": {},
   "outputs": [],
   "source": []
  },
  {
   "cell_type": "code",
   "execution_count": null,
   "metadata": {},
   "outputs": [],
   "source": []
  },
  {
   "cell_type": "code",
   "execution_count": null,
   "metadata": {},
   "outputs": [],
   "source": []
  }
 ],
 "metadata": {
  "kernelspec": {
   "display_name": "Python 3",
   "language": "python",
   "name": "python3"
  },
  "language_info": {
   "codemirror_mode": {
    "name": "ipython",
    "version": 3
   },
   "file_extension": ".py",
   "mimetype": "text/x-python",
   "name": "python",
   "nbconvert_exporter": "python",
   "pygments_lexer": "ipython3",
   "version": "3.5.0"
  }
 },
 "nbformat": 4,
 "nbformat_minor": 2
}
